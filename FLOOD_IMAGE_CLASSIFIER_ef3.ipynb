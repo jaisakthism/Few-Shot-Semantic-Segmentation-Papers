{
  "nbformat": 4,
  "nbformat_minor": 0,
  "metadata": {
    "accelerator": "GPU",
    "colab": {
      "provenance": [],
      "include_colab_link": true
    },
    "kernelspec": {
      "display_name": "Python 3",
      "name": "python3"
    },
    "language_info": {
      "name": "python"
    }
  },
  "cells": [
    {
      "cell_type": "markdown",
      "metadata": {
        "id": "view-in-github",
        "colab_type": "text"
      },
      "source": [
        "<a href=\"https://colab.research.google.com/github/jaisakthism/Few-Shot-Semantic-Segmentation-Papers/blob/master/FLOOD_IMAGE_CLASSIFIER_ef3.ipynb\" target=\"_parent\"><img src=\"https://colab.research.google.com/assets/colab-badge.svg\" alt=\"Open In Colab\"/></a>"
      ]
    },
    {
      "cell_type": "code",
      "metadata": {
        "id": "pwlJCBt0c69R"
      },
      "source": [
        "# Loading required libraries and functions\n",
        "import shutil\n",
        "import random\n",
        "import itertools\n",
        "%matplotlib inline\n",
        "import numpy as np\n",
        "import tensorflow as tf\n",
        "import matplotlib as mpl\n",
        "from keras import backend\n",
        "from tensorflow import keras\n",
        "import matplotlib.pyplot as plt\n",
        "from sklearn.metrics import f1_score\n",
        "from sklearn.metrics import accuracy_score\n",
        "from tensorflow.keras.models import Model\n",
        "from tensorflow.keras.optimizers import Adam\n",
        "from sklearn.metrics import confusion_matrix\n",
        "from keras.applications import imagenet_utils\n",
        "from tensorflow.keras.preprocessing import image\n",
        "from tensorflow.keras.layers import Dense, Activation\n",
        "from sklearn.metrics import precision_score, recall_score\n",
        "from tensorflow.keras.metrics import categorical_crossentropy\n",
        "from tensorflow.keras.preprocessing.image import ImageDataGenerator\n",
        "from tensorflow.keras.applications.mobilenet import decode_predictions, preprocess_input"
      ],
      "execution_count": null,
      "outputs": []
    },
    {
      "cell_type": "code",
      "metadata": {
        "id": "apU_YJccdG-Q"
      },
      "source": [
        "import tensorflow as tf\n",
        "import glob\n",
        "import numpy as np\n",
        "from sklearn.model_selection import train_test_split\n",
        "import PIL.Image\n",
        "import cv2\n",
        "import random\n",
        "from scipy import ndarray\n",
        "import skimage as sk\n",
        "from skimage import transform\n",
        "from skimage import util\n",
        "import random\n",
        "from keras import backend as K\n",
        "import os\n",
        "from keras.layers import *\n",
        "import re\n",
        "import zipfile\n",
        "import pathlib\n",
        "import PIL\n",
        "import pandas as pd"
      ],
      "execution_count": null,
      "outputs": []
    },
    {
      "cell_type": "code",
      "metadata": {
        "id": "z9MHlcuadJX5",
        "colab": {
          "base_uri": "https://localhost:8080/"
        },
        "outputId": "8b44372d-2a65-4064-e3fd-030164514f84"
      },
      "source": [
        "from PIL import Image, ImageOps\n",
        "filelist_trainx = sorted(glob.glob(\"/content/drive/MyDrive/social_media_images/devset_images_zipfile/devset_images/*/*\"))\n",
        "X_train = np.array([np.array(PIL.Image.open(fname).resize((300,300),PIL.Image.ANTIALIAS)) for fname in filelist_trainx])\n",
        "X_train.shape"
      ],
      "execution_count": null,
      "outputs": [
        {
          "output_type": "execute_result",
          "data": {
            "text/plain": [
              "(5280, 300, 300, 3)"
            ]
          },
          "metadata": {},
          "execution_count": 3
        }
      ]
    },
    {
      "cell_type": "code",
      "metadata": {
        "colab": {
          "base_uri": "https://localhost:8080/"
        },
        "id": "NbABQo9fdOaZ",
        "outputId": "fd191dd7-02dd-478a-f16b-4240bc73e643"
      },
      "source": [
        "X_train.shape"
      ],
      "execution_count": null,
      "outputs": [
        {
          "output_type": "execute_result",
          "data": {
            "text/plain": [
              "(5280, 300, 300, 3)"
            ]
          },
          "metadata": {},
          "execution_count": 4
        }
      ]
    },
    {
      "cell_type": "code",
      "metadata": {
        "colab": {
          "base_uri": "https://localhost:8080/"
        },
        "id": "Pcg18tXxdQ5A",
        "outputId": "32902ef5-b992-4d1d-9571-ec5ad9caa570"
      },
      "source": [
        "from tensorflow.keras.utils import to_categorical\n",
        "Y_train  = pd.read_csv(\"/content/drive/MyDrive/social_media_images/devset_images_zipfile/devset_images_gt.csv\", header = None)\n",
        "Y_train = Y_train.iloc[:,1].values\n",
        "Y_train = to_categorical(Y_train)\n",
        "Y_train = Y_train.astype('float32')\n",
        "#Y_train.index = Y_train.index + 1\n",
        "#tf.convert_to_tensor(Y_train)\n",
        "Y_train = np.array(Y_train)\n",
        "print(Y_train)"
      ],
      "execution_count": null,
      "outputs": [
        {
          "output_type": "stream",
          "name": "stdout",
          "text": [
            "[[1. 0.]\n",
            " [1. 0.]\n",
            " [1. 0.]\n",
            " ...\n",
            " [1. 0.]\n",
            " [1. 0.]\n",
            " [1. 0.]]\n"
          ]
        }
      ]
    },
    {
      "cell_type": "code",
      "metadata": {
        "id": "oNsNMuGpdSfO"
      },
      "source": [
        "x_train, x_val, y_train, y_val = train_test_split(X_train, Y_train, test_size = 0.33, random_state = 54)"
      ],
      "execution_count": null,
      "outputs": []
    },
    {
      "cell_type": "code",
      "metadata": {
        "id": "H8m1gnj0dgsd"
      },
      "source": [
        "from tensorflow.keras.applications import EfficientNetB2"
      ],
      "execution_count": null,
      "outputs": []
    },
    {
      "cell_type": "code",
      "metadata": {
        "id": "4qel97OydiUk"
      },
      "source": [
        "from tensorflow.keras.models import Sequential\n",
        "from tensorflow.keras import layers"
      ],
      "execution_count": null,
      "outputs": []
    },
    {
      "cell_type": "code",
      "metadata": {
        "id": "gpsJGriVdkRm"
      },
      "source": [
        "\n",
        "img_augmentation = Sequential(\n",
        "    [\n",
        "        layers.RandomRotation(factor=0.15),\n",
        "        layers.RandomTranslation(height_factor=0.1, width_factor=0.1),\n",
        "        layers.RandomFlip(),\n",
        "        layers.RandomContrast(factor=0.1),\n",
        "    ],\n",
        "    name=\"img_augmentation\",\n",
        ")"
      ],
      "execution_count": null,
      "outputs": []
    },
    {
      "cell_type": "code",
      "metadata": {
        "id": "4X_E-7Tudm1K"
      },
      "source": [
        "img_height = 300\n",
        "img_width = 300"
      ],
      "execution_count": null,
      "outputs": []
    },
    {
      "cell_type": "code",
      "metadata": {
        "id": "AhxDfo_Ldojz"
      },
      "source": [
        "preprocess_input = tf.keras.applications.mobilenet_v2.preprocess_input"
      ],
      "execution_count": null,
      "outputs": []
    },
    {
      "cell_type": "code",
      "metadata": {
        "id": "frv3SoaNdqYW"
      },
      "source": [
        "def build_model(num_classes):\n",
        "    inputs = layers.Input(shape=(img_height, img_width,3))\n",
        "    x = img_augmentation(inputs)\n",
        "    model = EfficientNetB2(include_top=False, input_tensor=x, weights=\"imagenet\")\n",
        "\n",
        "    # Freeze the pretrained weights\n",
        "    model.trainable = False\n",
        "\n",
        "    # Rebuild top\n",
        "    x = layers.GlobalAveragePooling2D(name=\"avg_pool\")(model.output)\n",
        "    x = layers.BatchNormalization()(x)\n",
        "\n",
        "    top_dropout_rate = 0.2\n",
        "    x = layers.Dropout(top_dropout_rate, name=\"top_dropout\")(x)\n",
        "    outputs = layers.Dense(NUM_CLASSES, activation=\"sigmoid\", name=\"pred\")(x)\n",
        "\n",
        "    # Compile\n",
        "    model = tf.keras.Model(inputs, outputs, name=\"EfficientNet\")\n",
        "    optimizer = tf.keras.optimizers.Adam(learning_rate=1e-3)\n",
        "    mse = tf.keras.losses.MeanSquaredLogarithmicError()\n",
        "    cc = \"categorical_crossentropy\"\n",
        "    sce = tf.keras.losses.MeanSquaredError()\n",
        "    cosine_loss = tf.keras.losses.CosineSimilarity(axis=1)\n",
        "    model.compile(\n",
        "        optimizer= optimizer, loss= mse, metrics=[\"accuracy\"]\n",
        "    )\n",
        "    return model\n"
      ],
      "execution_count": null,
      "outputs": []
    },
    {
      "cell_type": "code",
      "metadata": {
        "colab": {
          "base_uri": "https://localhost:8080/"
        },
        "id": "vqtXCQqKdsR7",
        "outputId": "7bee1069-5da0-400a-8496-1536206e259f"
      },
      "source": [
        "import tensorflow as tf\n",
        "\n",
        "try:\n",
        "    tpu = tf.distribute.cluster_resolver.TPUClusterResolver()  # TPU detection\n",
        "    print(\"Running on TPU \", tpu.cluster_spec().as_dict()[\"worker\"])\n",
        "    tf.config.experimental_connect_to_cluster(tpu)\n",
        "    tf.tpu.experimental.initialize_tpu_system(tpu)\n",
        "    strategy = tf.distribute.TPUStrategy(tpu)\n",
        "except ValueError:\n",
        "    print(\"Not connected to a TPU runtime. Using CPU/GPU strategy\")\n",
        "    strategy = tf.distribute.MirroredStrategy()\n"
      ],
      "execution_count": null,
      "outputs": [
        {
          "output_type": "stream",
          "name": "stdout",
          "text": [
            "Not connected to a TPU runtime. Using CPU/GPU strategy\n",
            "INFO:tensorflow:Using MirroredStrategy with devices ('/job:localhost/replica:0/task:0/device:GPU:0',)\n"
          ]
        }
      ]
    },
    {
      "cell_type": "code",
      "metadata": {
        "colab": {
          "base_uri": "https://localhost:8080/"
        },
        "id": "wurWaFfkduh1",
        "outputId": "db08d210-c262-445d-8a72-4bb5f7e5b7ed"
      },
      "source": [
        "NUM_CLASSES = 2\n",
        "with strategy.scope():\n",
        "    model = build_model(num_classes=NUM_CLASSES)\n",
        "\n",
        "epochs = 20 #@param {type:\"slider\", min:8, max:100, step:1}\n",
        "#hist = model.fit(ds_train, epochs=epochs, validation_data=ds_test, verbose=2)\n",
        "hist = model.fit(x_train,y_train,\n",
        "                  epochs= epochs,\n",
        "                  #nitial_epoch=hist.epoch[-1],\n",
        "                  validation_data=(x_val, y_val))"
      ],
      "execution_count": null,
      "outputs": [
        {
          "output_type": "stream",
          "name": "stdout",
          "text": [
            "Epoch 1/20\n",
            "111/111 [==============================] - 40s 268ms/step - loss: 0.1362 - accuracy: 0.5884 - val_loss: 0.1196 - val_accuracy: 0.6420\n",
            "Epoch 2/20\n",
            "111/111 [==============================] - 26s 239ms/step - loss: 0.1293 - accuracy: 0.6090 - val_loss: 0.1216 - val_accuracy: 0.6334\n",
            "Epoch 3/20\n",
            "111/111 [==============================] - 27s 240ms/step - loss: 0.1263 - accuracy: 0.6087 - val_loss: 0.1267 - val_accuracy: 0.6363\n",
            "Epoch 4/20\n",
            "111/111 [==============================] - 27s 241ms/step - loss: 0.1243 - accuracy: 0.6132 - val_loss: 0.1249 - val_accuracy: 0.6225\n",
            "Epoch 5/20\n",
            "111/111 [==============================] - 27s 241ms/step - loss: 0.1226 - accuracy: 0.6113 - val_loss: 0.1244 - val_accuracy: 0.5950\n",
            "Epoch 6/20\n",
            "111/111 [==============================] - 27s 242ms/step - loss: 0.1195 - accuracy: 0.6152 - val_loss: 0.1237 - val_accuracy: 0.6059\n",
            "Epoch 7/20\n",
            "111/111 [==============================] - 27s 242ms/step - loss: 0.1180 - accuracy: 0.6195 - val_loss: 0.1259 - val_accuracy: 0.6265\n",
            "Epoch 8/20\n",
            "111/111 [==============================] - 27s 242ms/step - loss: 0.1171 - accuracy: 0.6240 - val_loss: 0.1265 - val_accuracy: 0.5645\n",
            "Epoch 9/20\n",
            "111/111 [==============================] - 27s 242ms/step - loss: 0.1182 - accuracy: 0.6138 - val_loss: 0.1263 - val_accuracy: 0.6145\n",
            "Epoch 10/20\n",
            "111/111 [==============================] - 27s 242ms/step - loss: 0.1162 - accuracy: 0.6152 - val_loss: 0.1267 - val_accuracy: 0.5915\n",
            "Epoch 11/20\n",
            "111/111 [==============================] - 27s 243ms/step - loss: 0.1158 - accuracy: 0.6245 - val_loss: 0.1271 - val_accuracy: 0.5663\n",
            "Epoch 12/20\n",
            "111/111 [==============================] - 27s 242ms/step - loss: 0.1164 - accuracy: 0.6206 - val_loss: 0.1270 - val_accuracy: 0.5577\n",
            "Epoch 13/20\n",
            "111/111 [==============================] - 27s 243ms/step - loss: 0.1143 - accuracy: 0.6254 - val_loss: 0.1262 - val_accuracy: 0.5709\n",
            "Epoch 14/20\n",
            "111/111 [==============================] - 27s 242ms/step - loss: 0.1151 - accuracy: 0.6195 - val_loss: 0.1241 - val_accuracy: 0.5881\n",
            "Epoch 15/20\n",
            "111/111 [==============================] - 27s 243ms/step - loss: 0.1124 - accuracy: 0.6282 - val_loss: 0.1250 - val_accuracy: 0.5806\n",
            "Epoch 16/20\n",
            "111/111 [==============================] - 27s 243ms/step - loss: 0.1135 - accuracy: 0.6296 - val_loss: 0.1240 - val_accuracy: 0.6236\n",
            "Epoch 17/20\n",
            "111/111 [==============================] - 27s 244ms/step - loss: 0.1167 - accuracy: 0.6146 - val_loss: 0.1233 - val_accuracy: 0.5927\n",
            "Epoch 18/20\n",
            "111/111 [==============================] - 27s 243ms/step - loss: 0.1142 - accuracy: 0.6327 - val_loss: 0.1245 - val_accuracy: 0.6024\n",
            "Epoch 19/20\n",
            "111/111 [==============================] - 27s 243ms/step - loss: 0.1121 - accuracy: 0.6325 - val_loss: 0.1235 - val_accuracy: 0.6104\n",
            "Epoch 20/20\n",
            "111/111 [==============================] - 27s 242ms/step - loss: 0.1131 - accuracy: 0.6262 - val_loss: 0.1254 - val_accuracy: 0.6104\n"
          ]
        }
      ]
    },
    {
      "cell_type": "code",
      "metadata": {
        "id": "gikZ9E-rduo-",
        "colab": {
          "base_uri": "https://localhost:8080/"
        },
        "outputId": "a84dc671-da90-4b57-dabf-55e3528881d1"
      },
      "source": [
        "histt = model.evaluate(x_train,y_train)"
      ],
      "execution_count": null,
      "outputs": [
        {
          "output_type": "stream",
          "name": "stdout",
          "text": [
            "111/111 [==============================] - 17s 155ms/step - loss: 0.1133 - accuracy: 0.6401\n"
          ]
        }
      ]
    },
    {
      "cell_type": "code",
      "metadata": {
        "id": "XgGicRepdzl_",
        "colab": {
          "base_uri": "https://localhost:8080/"
        },
        "outputId": "eaddace5-1e29-44f9-aebe-8867799ca6d5"
      },
      "source": [
        "histvv = model.evaluate(x_val,y_val)"
      ],
      "execution_count": null,
      "outputs": [
        {
          "output_type": "stream",
          "name": "stdout",
          "text": [
            "55/55 [==============================] - 8s 149ms/step - loss: 0.1254 - accuracy: 0.6104\n"
          ]
        }
      ]
    },
    {
      "cell_type": "code",
      "metadata": {
        "id": "_9y_bbKtd1uT",
        "colab": {
          "base_uri": "https://localhost:8080/",
          "height": 513
        },
        "outputId": "d77f631b-12e7-4740-8cd6-9338fcf8a273"
      },
      "source": [
        "acc = hist.history['accuracy']\n",
        "val_acc = hist.history['val_accuracy']\n",
        "\n",
        "loss = hist.history['loss']\n",
        "val_loss = hist.history['val_loss']\n",
        "\n",
        "plt.figure(figsize=(8, 8))\n",
        "plt.subplot(2, 1, 1)\n",
        "plt.plot(acc, label='Training Accuracy')\n",
        "plt.plot(val_acc, label='Validation Accuracy')\n",
        "plt.legend(loc='lower right')\n",
        "plt.ylabel('Accuracy')\n",
        "plt.ylim([min(plt.ylim()),1])\n",
        "plt.title('Training and Validation Accuracy_B2')\n",
        "\n",
        "plt.subplot(2, 1, 2)\n",
        "plt.plot(loss, label='Training Loss')\n",
        "plt.plot(val_loss, label='Validation Loss')\n",
        "plt.legend(loc='upper right')\n",
        "plt.ylabel('Cross Entropy')\n",
        "plt.ylim([0,1.0])\n",
        "plt.title('Training and Validation Loss_B2')\n",
        "plt.xlabel('epoch')\n",
        "plt.show()"
      ],
      "execution_count": null,
      "outputs": [
        {
          "output_type": "display_data",
          "data": {
            "image/png": "[encoded data removed]",
            "text/plain": [
              "<Figure size 576x576 with 2 Axes>"
            ]
          },
          "metadata": {
            "needs_background": "light"
          }
        }
      ]
    },
    {
      "cell_type": "code",
      "metadata": {
        "id": "DtcxyrGtd5St"
      },
      "source": [
        "predictions = model.predict(x_val)\n",
        "#y_pred_proba = model.predicted_proba(x_val)"
      ],
      "execution_count": null,
      "outputs": []
    },
    {
      "cell_type": "code",
      "metadata": {
        "id": "ncl5V_5xd51U",
        "colab": {
          "base_uri": "https://localhost:8080/"
        },
        "outputId": "8354fab7-5582-4fea-a57c-aa500f0db6e9"
      },
      "source": [
        "y_pred = np.argmax(predictions,axis =1)\n",
        "\n",
        "y_val = np.argmax(y_val,axis =1)\n",
        "print(y_val)\n",
        "print(y_pred)"
      ],
      "execution_count": null,
      "outputs": [
        {
          "output_type": "stream",
          "name": "stdout",
          "text": [
            "[1 1 0 ... 1 0 1]\n",
            "[0 0 0 ... 0 0 0]\n"
          ]
        }
      ]
    },
    {
      "cell_type": "code",
      "metadata": {
        "id": "4HFLLXlOd7fl",
        "colab": {
          "base_uri": "https://localhost:8080/"
        },
        "outputId": "91075959-1b8c-4ca7-9e58-5e4f96848e6f"
      },
      "source": [
        "mt = confusion_matrix(y_val, y_pred)\n",
        "print(\"False positive rate : %f %%\" % ((mt[0][1] / float(sum(mt[0])))*100))\n",
        "print('False negative rate : %f %%' % ( (mt[1][0] / float(sum(mt[1]))*100)))\n"
      ],
      "execution_count": null,
      "outputs": [
        {
          "output_type": "stream",
          "name": "stdout",
          "text": [
            "False positive rate : 13.148479 %\n",
            "False negative rate : 85.120000 %\n"
          ]
        }
      ]
    },
    {
      "cell_type": "code",
      "metadata": {
        "id": "VbGQrbyZd9kq",
        "colab": {
          "base_uri": "https://localhost:8080/"
        },
        "outputId": "42822d04-092f-4115-acd3-fd6ca67cdbd8"
      },
      "source": [
        "import sklearn.metrics as metrics\n",
        "\n",
        "print(metrics.classification_report(y_val, y_pred))"
      ],
      "execution_count": null,
      "outputs": [
        {
          "output_type": "stream",
          "name": "stdout",
          "text": [
            "              precision    recall  f1-score   support\n",
            "\n",
            "           0       0.65      0.87      0.74      1118\n",
            "           1       0.39      0.15      0.22       625\n",
            "\n",
            "    accuracy                           0.61      1743\n",
            "   macro avg       0.52      0.51      0.48      1743\n",
            "weighted avg       0.55      0.61      0.55      1743\n",
            "\n"
          ]
        }
      ]
    },
    {
      "cell_type": "code",
      "metadata": {
        "id": "9oGVtsGid_Vc",
        "colab": {
          "base_uri": "https://localhost:8080/",
          "height": 609
        },
        "outputId": "4be940fd-490f-43fe-ed42-2b6e1c9a82aa"
      },
      "source": [
        "import seaborn as sns## for processing\n",
        "\n",
        "classes = np.unique(y_val)\n",
        "y_test_array = pd.get_dummies(y_val, drop_first=False).values\n",
        "\n",
        "## Accuracy, Precision, Recall\n",
        "accuracy = metrics.accuracy_score(y_val, y_pred)\n",
        "#auc = metrics.roc_auc_score(y_test, predicted_prob, multi_class=\"ovr\")\n",
        "print(\"Accuracy:\",  round(accuracy*100,2))\n",
        "#print(\"Auc:\", round(auc,2))\n",
        "print(\"Detail:\")\n",
        "print(metrics.classification_report(y_val, y_pred))\n",
        "\n",
        "## Plot confusion matrix\n",
        "cm = metrics.confusion_matrix(y_val, y_pred)\n",
        "fig, ax = plt.subplots()\n",
        "sns.heatmap(cm, annot=True, fmt='d', ax=ax, cmap=plt.cm.Blues,\n",
        "            cbar=False)\n",
        "ax.set(xlabel=\"Pred\", ylabel=\"True\", xticklabels=classes,\n",
        "       yticklabels=classes, title=\"Confusion matrix_B2\")\n",
        "plt.yticks(rotation=0)\n",
        "#fig, ax = plt.subplots(nrows=1, ncols=2,figsize=(15,5))\n",
        "\n",
        "## Plot roc\n",
        "\"\"\"for i in range(len(classes)):\n",
        "    fpr, tpr, thresholds = metrics.roc_curve(y_test_array[:,i],\n",
        "                           predictions[:,i])\n",
        "    ax[0].plot(fpr, tpr, lw=3,\n",
        "              label='{0} (area={1:0.2f})'.format(classes[i],\n",
        "                              metrics.auc(fpr, tpr))\n",
        "               )\n",
        "ax[0].plot([0,1], [0,1], color='green', lw=3, linestyle='--')\n",
        "ax[0].set(xlim=[-0.05,1.0], ylim=[0.0,1.05],\n",
        "          xlabel='False Positive Rate',\n",
        "          ylabel=\"True Positive Rate (Recall)\",\n",
        "          title=\"Receiver operating characteristic\")\n",
        "ax[0].legend(loc=\"lower right\")\n",
        "ax[0].grid(True)\n",
        "\n",
        "## Plot precision-recall curve\n",
        "for i in range(len(classes)):\n",
        "    precision, recall, thresholds = metrics.precision_recall_curve(\n",
        "                 y_test_array[:,i], predictions[:,i])\n",
        "    ax[1].plot(recall, precision, lw=3,\n",
        "               label='{0} (area={1:0.2f})'.format(classes[i],\n",
        "                                  metrics.auc(recall, precision))\n",
        "              )\n",
        "ax[1].set(xlim=[0.0,1.05], ylim=[0.0,1.05], xlabel='Recall',\n",
        "          ylabel=\"Precision\", title=\"Precision-Recall curve\")\n",
        "ax[1].legend(loc=\"best\")\n",
        "ax[1].grid(True)\n",
        "plt.show()\n",
        "\"\"\""
      ],
      "execution_count": null,
      "outputs": [
        {
          "output_type": "stream",
          "name": "stdout",
          "text": [
            "Accuracy: 61.04\n",
            "Detail:\n",
            "              precision    recall  f1-score   support\n",
            "\n",
            "           0       0.65      0.87      0.74      1118\n",
            "           1       0.39      0.15      0.22       625\n",
            "\n",
            "    accuracy                           0.61      1743\n",
            "   macro avg       0.52      0.51      0.48      1743\n",
            "weighted avg       0.55      0.61      0.55      1743\n",
            "\n"
          ]
        },
        {
          "output_type": "execute_result",
          "data": {
            "application/vnd.google.colaboratory.intrinsic+json": {
              "type": "string"
            },
            "text/plain": [
              "'for i in range(len(classes)):\\n    fpr, tpr, thresholds = metrics.roc_curve(y_test_array[:,i],  \\n                           predictions[:,i])\\n    ax[0].plot(fpr, tpr, lw=3, \\n              label=\\'{0} (area={1:0.2f})\\'.format(classes[i], \\n                              metrics.auc(fpr, tpr))\\n               )\\nax[0].plot([0,1], [0,1], color=\\'green\\', lw=3, linestyle=\\'--\\')\\nax[0].set(xlim=[-0.05,1.0], ylim=[0.0,1.05], \\n          xlabel=\\'False Positive Rate\\', \\n          ylabel=\"True Positive Rate (Recall)\", \\n          title=\"Receiver operating characteristic\")\\nax[0].legend(loc=\"lower right\")\\nax[0].grid(True)\\n    \\n## Plot precision-recall curve\\nfor i in range(len(classes)):\\n    precision, recall, thresholds = metrics.precision_recall_curve(\\n                 y_test_array[:,i], predictions[:,i])\\n    ax[1].plot(recall, precision, lw=3, \\n               label=\\'{0} (area={1:0.2f})\\'.format(classes[i], \\n                                  metrics.auc(recall, precision))\\n              )\\nax[1].set(xlim=[0.0,1.05], ylim=[0.0,1.05], xlabel=\\'Recall\\', \\n          ylabel=\"Precision\", title=\"Precision-Recall curve\")\\nax[1].legend(loc=\"best\")\\nax[1].grid(True)\\nplt.show()\\n'"
            ]
          },
          "metadata": {},
          "execution_count": 23
        },
        {
          "output_type": "display_data",
          "data": {
            "image/png": "[encoded data removed]",
            "text/plain": [
              "<Figure size 432x288 with 1 Axes>"
            ]
          },
          "metadata": {
            "needs_background": "light"
          }
        }
      ]
    },
    {
      "cell_type": "code",
      "metadata": {
        "id": "ZtaKFMYxeBLH",
        "colab": {
          "base_uri": "https://localhost:8080/"
        },
        "outputId": "9c917401-4ba8-4c37-b165-480581ac6198"
      },
      "source": [
        "\n",
        "def unfreeze_model(model):\n",
        "    # We unfreeze the top 20 layers while leaving BatchNorm layers frozen\n",
        "    for layer in model.layers[-20:]:\n",
        "        if not isinstance(layer, layers.BatchNormalization):\n",
        "            layer.trainable = True\n",
        "    mse = tf.keras.losses.MeanSquaredLogarithmicError()\n",
        "\n",
        "    optimizer = tf.keras.optimizers.Adam(learning_rate=1e-4)\n",
        "    model.compile(\n",
        "        optimizer=optimizer, loss= mse, metrics=[\"accuracy\"]\n",
        "    )\n",
        "\n",
        "\n",
        "model1 = unfreeze_model(model)\n",
        "\n",
        "epochs = 10  # @param {type: \"slider\", min:8, max:50}\n",
        "#hist = model.fit(ds_train, epochs=epochs, validation_data=ds_test, verbose=2)\n",
        "hist = model.fit(x_train,y_train,\n",
        "                  epochs= epochs,\n",
        "                  #initial_epoch=hist.epoch[-1],\n",
        "                  validation_data=(x_val, y_val))"
      ],
      "execution_count": null,
      "outputs": [
        {
          "output_type": "stream",
          "name": "stdout",
          "text": [
            "Epoch 1/10\n",
            "111/111 [==============================] - 41s 271ms/step - loss: 0.0927 - accuracy: 0.7043 - val_loss: 0.1459 - val_accuracy: 0.7665\n",
            "Epoch 2/10\n",
            "111/111 [==============================] - 28s 250ms/step - loss: 0.0919 - accuracy: 0.7111 - val_loss: 0.1477 - val_accuracy: 0.8003\n",
            "Epoch 3/10\n",
            "111/111 [==============================] - 28s 251ms/step - loss: 0.0915 - accuracy: 0.7173 - val_loss: 0.1534 - val_accuracy: 0.8514\n",
            "Epoch 4/10\n",
            "111/111 [==============================] - 28s 254ms/step - loss: 0.0893 - accuracy: 0.7241 - val_loss: 0.1497 - val_accuracy: 0.8210\n",
            "Epoch 5/10\n",
            "111/111 [==============================] - 28s 254ms/step - loss: 0.0858 - accuracy: 0.7357 - val_loss: 0.1497 - val_accuracy: 0.8227\n",
            "Epoch 6/10\n",
            "111/111 [==============================] - 28s 255ms/step - loss: 0.0856 - accuracy: 0.7436 - val_loss: 0.1522 - val_accuracy: 0.8210\n",
            "Epoch 7/10\n",
            "111/111 [==============================] - 28s 255ms/step - loss: 0.0827 - accuracy: 0.7478 - val_loss: 0.1582 - val_accuracy: 0.8898\n",
            "Epoch 8/10\n",
            "111/111 [==============================] - 28s 256ms/step - loss: 0.0848 - accuracy: 0.7393 - val_loss: 0.1519 - val_accuracy: 0.8026\n",
            "Epoch 9/10\n",
            "111/111 [==============================] - 28s 257ms/step - loss: 0.0829 - accuracy: 0.7441 - val_loss: 0.1468 - val_accuracy: 0.7108\n",
            "Epoch 10/10\n",
            "111/111 [==============================] - 28s 257ms/step - loss: 0.0802 - accuracy: 0.7614 - val_loss: 0.1510 - val_accuracy: 0.7785\n"
          ]
        }
      ]
    },
    {
      "cell_type": "code",
      "source": [
        "tf.keras.models.save_model(model1,\"/content/drive/MyDrive/effnet3\")"
      ],
      "metadata": {
        "colab": {
          "base_uri": "https://localhost:8080/",
          "height": 310
        },
        "id": "3kXw3NzcibPl",
        "outputId": "f1bc5433-9faa-4b63-cc94-14a3123711f1"
      },
      "execution_count": null,
      "outputs": [
        {
          "output_type": "error",
          "ename": "AttributeError",
          "evalue": "ignored",
          "traceback": [
            "\u001b[0;31m---------------------------------------------------------------------------\u001b[0m",
            "\u001b[0;31mAttributeError\u001b[0m                            Traceback (most recent call last)",
            "\u001b[0;32m<ipython-input-32-8c49e9b50aa8>\u001b[0m in \u001b[0;36m<module>\u001b[0;34m()\u001b[0m\n\u001b[0;32m----> 1\u001b[0;31m \u001b[0mtf\u001b[0m\u001b[0;34m.\u001b[0m\u001b[0mkeras\u001b[0m\u001b[0;34m.\u001b[0m\u001b[0mmodels\u001b[0m\u001b[0;34m.\u001b[0m\u001b[0msave_model\u001b[0m\u001b[0;34m(\u001b[0m\u001b[0mmodel1\u001b[0m\u001b[0;34m,\u001b[0m\u001b[0;34m\"/content/drive/MyDrive/effnet3\"\u001b[0m\u001b[0;34m)\u001b[0m\u001b[0;34m\u001b[0m\u001b[0;34m\u001b[0m\u001b[0m\n\u001b[0m",
            "\u001b[0;32m/usr/local/lib/python3.7/dist-packages/keras/utils/traceback_utils.py\u001b[0m in \u001b[0;36merror_handler\u001b[0;34m(*args, **kwargs)\u001b[0m\n\u001b[1;32m     65\u001b[0m     \u001b[0;32mexcept\u001b[0m \u001b[0mException\u001b[0m \u001b[0;32mas\u001b[0m \u001b[0me\u001b[0m\u001b[0;34m:\u001b[0m  \u001b[0;31m# pylint: disable=broad-except\u001b[0m\u001b[0;34m\u001b[0m\u001b[0;34m\u001b[0m\u001b[0m\n\u001b[1;32m     66\u001b[0m       \u001b[0mfiltered_tb\u001b[0m \u001b[0;34m=\u001b[0m \u001b[0m_process_traceback_frames\u001b[0m\u001b[0;34m(\u001b[0m\u001b[0me\u001b[0m\u001b[0;34m.\u001b[0m\u001b[0m__traceback__\u001b[0m\u001b[0;34m)\u001b[0m\u001b[0;34m\u001b[0m\u001b[0;34m\u001b[0m\u001b[0m\n\u001b[0;32m---> 67\u001b[0;31m       \u001b[0;32mraise\u001b[0m \u001b[0me\u001b[0m\u001b[0;34m.\u001b[0m\u001b[0mwith_traceback\u001b[0m\u001b[0;34m(\u001b[0m\u001b[0mfiltered_tb\u001b[0m\u001b[0;34m)\u001b[0m \u001b[0;32mfrom\u001b[0m \u001b[0;32mNone\u001b[0m\u001b[0;34m\u001b[0m\u001b[0;34m\u001b[0m\u001b[0m\n\u001b[0m\u001b[1;32m     68\u001b[0m     \u001b[0;32mfinally\u001b[0m\u001b[0;34m:\u001b[0m\u001b[0;34m\u001b[0m\u001b[0;34m\u001b[0m\u001b[0m\n\u001b[1;32m     69\u001b[0m       \u001b[0;32mdel\u001b[0m \u001b[0mfiltered_tb\u001b[0m\u001b[0;34m\u001b[0m\u001b[0;34m\u001b[0m\u001b[0m\n",
            "\u001b[0;32m/usr/local/lib/python3.7/dist-packages/keras/saving/saving_utils.py\u001b[0m in \u001b[0;36mtry_build_compiled_arguments\u001b[0;34m(model)\u001b[0m\n\u001b[1;32m    306\u001b[0m \u001b[0;32mdef\u001b[0m \u001b[0mtry_build_compiled_arguments\u001b[0m\u001b[0;34m(\u001b[0m\u001b[0mmodel\u001b[0m\u001b[0;34m)\u001b[0m\u001b[0;34m:\u001b[0m\u001b[0;34m\u001b[0m\u001b[0;34m\u001b[0m\u001b[0m\n\u001b[1;32m    307\u001b[0m   if (not version_utils.is_v1_layer_or_model(model) and\n\u001b[0;32m--> 308\u001b[0;31m       model.outputs is not None):\n\u001b[0m\u001b[1;32m    309\u001b[0m     \u001b[0;32mtry\u001b[0m\u001b[0;34m:\u001b[0m\u001b[0;34m\u001b[0m\u001b[0;34m\u001b[0m\u001b[0m\n\u001b[1;32m    310\u001b[0m       \u001b[0;32mif\u001b[0m \u001b[0;32mnot\u001b[0m \u001b[0mmodel\u001b[0m\u001b[0;34m.\u001b[0m\u001b[0mcompiled_loss\u001b[0m\u001b[0;34m.\u001b[0m\u001b[0mbuilt\u001b[0m\u001b[0;34m:\u001b[0m\u001b[0;34m\u001b[0m\u001b[0;34m\u001b[0m\u001b[0m\n",
            "\u001b[0;31mAttributeError\u001b[0m: 'NoneType' object has no attribute 'outputs'"
          ]
        }
      ]
    },
    {
      "cell_type": "code",
      "metadata": {
        "id": "Ha6XMryxeDH5",
        "colab": {
          "base_uri": "https://localhost:8080/",
          "height": 513
        },
        "outputId": "0f31d5e4-1b67-471c-87d2-02da2da60cdf"
      },
      "source": [
        "acc = hist.history['accuracy']\n",
        "val_acc = hist.history['val_accuracy']\n",
        "\n",
        "loss = hist.history['loss']\n",
        "val_loss = hist.history['val_loss']\n",
        "\n",
        "plt.figure(figsize=(8, 8))\n",
        "plt.subplot(2, 1, 1)\n",
        "plt.plot(acc, label='Training Accuracy')\n",
        "plt.plot(val_acc, label='Validation Accuracy')\n",
        "plt.legend(loc='lower right')\n",
        "plt.ylabel('Accuracy')\n",
        "plt.ylim([min(plt.ylim()),1])\n",
        "plt.title('Training and Validation Accuracy_B2')\n",
        "\n",
        "plt.subplot(2, 1, 2)\n",
        "plt.plot(loss, label='Training Loss')\n",
        "plt.plot(val_loss, label='Validation Loss')\n",
        "plt.legend(loc='upper right')\n",
        "plt.ylabel('Cross Entropy')\n",
        "plt.ylim([0,1.0])\n",
        "plt.title('Training and Validation Loss_B2')\n",
        "plt.xlabel('epoch')\n",
        "plt.show()"
      ],
      "execution_count": null,
      "outputs": [
        {
          "output_type": "display_data",
          "data": {
            "image/png": "[encoded data removed]",
            "text/plain": [
              "<Figure size 576x576 with 2 Axes>"
            ]
          },
          "metadata": {
            "needs_background": "light"
          }
        }
      ]
    },
    {
      "cell_type": "code",
      "metadata": {
        "id": "11ODWc3UeFM8",
        "colab": {
          "base_uri": "https://localhost:8080/"
        },
        "outputId": "994a4215-3982-4f97-c3ae-0b88b733161e"
      },
      "source": [
        "predictions1 = model.predict(x_val)\n",
        "y_pred = np.argmax(predictions1, axis=1)\n",
        "\n",
        "score = predictions1[0]\n",
        "print(100 * score)\n"
      ],
      "execution_count": null,
      "outputs": [
        {
          "output_type": "stream",
          "name": "stdout",
          "text": [
            "[77.696175   7.8084445]\n"
          ]
        }
      ]
    },
    {
      "cell_type": "code",
      "metadata": {
        "id": "hD9h-NAkeHPb",
        "colab": {
          "base_uri": "https://localhost:8080/"
        },
        "outputId": "50bdc006-e3e0-4901-e685-5417e5cdf910"
      },
      "source": [
        "mt = confusion_matrix(y_val, y_pred)\n",
        "print(\"False positive rate : %f %%\" % ((mt[0][1] / float(sum(mt[0])))*100))\n",
        "print('False negative rate : %f %%' % ( (mt[1][0] / float(sum(mt[1]))*100)))"
      ],
      "execution_count": null,
      "outputs": [
        {
          "output_type": "stream",
          "name": "stdout",
          "text": [
            "False positive rate : 10.554562 %\n",
            "False negative rate : 86.560000 %\n"
          ]
        }
      ]
    },
    {
      "cell_type": "code",
      "metadata": {
        "id": "t2tZtxxBeKIn",
        "colab": {
          "base_uri": "https://localhost:8080/"
        },
        "outputId": "7c6f8d6a-2a7f-46e4-cb53-e463ce49645e"
      },
      "source": [
        "print(metrics.classification_report(y_val, y_pred))"
      ],
      "execution_count": null,
      "outputs": [
        {
          "output_type": "stream",
          "name": "stdout",
          "text": [
            "              precision    recall  f1-score   support\n",
            "\n",
            "           0       0.65      0.89      0.75      1118\n",
            "           1       0.42      0.13      0.20       625\n",
            "\n",
            "    accuracy                           0.62      1743\n",
            "   macro avg       0.53      0.51      0.48      1743\n",
            "weighted avg       0.57      0.62      0.56      1743\n",
            "\n"
          ]
        }
      ]
    },
    {
      "cell_type": "code",
      "metadata": {
        "id": "JB9ONhy3eMn_",
        "colab": {
          "base_uri": "https://localhost:8080/",
          "height": 592
        },
        "outputId": "3cbf3c62-4546-4314-c693-774853c34165"
      },
      "source": [
        "import seaborn as sns## for processing\n",
        "\n",
        "classes = np.unique(y_val)\n",
        "y_test_array = pd.get_dummies(y_val, drop_first=False).values\n",
        "\n",
        "## Accuracy, Precision, Recall\n",
        "accuracy = metrics.accuracy_score(y_val, y_pred)\n",
        "#auc = metrics.roc_auc_score(y_test, predicted_prob, multi_class=\"ovr\")\n",
        "print(\"Accuracy:\",  round(accuracy,2))\n",
        "#print(\"Auc:\", round(auc,2))\n",
        "print(\"Detail:\")\n",
        "print(metrics.classification_report(y_val, y_pred))\n",
        "\n",
        "## Plot confusion matrix\n",
        "cm = metrics.confusion_matrix(y_val, y_pred)\n",
        "fig, ax = plt.subplots()\n",
        "sns.heatmap(cm, annot=True, fmt='d', ax=ax, cmap=plt.cm.Blues,\n",
        "            cbar=False)\n",
        "ax.set(xlabel=\"Pred\", ylabel=\"True\", xticklabels=classes,\n",
        "       yticklabels=classes, title=\"Confusion matrix\")\n",
        "plt.yticks(rotation=0)\n",
        "\"\"\"\n",
        "fig, ax = plt.subplots(nrows=1, ncols=2,figsize=(15,5))\n",
        "\n",
        "## Plot roc\n",
        "for i in range(len(classes)):\n",
        "    fpr, tpr, thresholds = metrics.roc_curve(y_test_array[:,i],\n",
        "                           predictions[:,i])\n",
        "    ax[0].plot(fpr, tpr, lw=3,\n",
        "              label='{0} (area={1:0.2f})'.format(classes[i],\n",
        "                              metrics.auc(fpr, tpr))\n",
        "               )\n",
        "ax[0].plot([0,1], [0,1], color='green', lw=3, linestyle='--')\n",
        "ax[0].set(xlim=[-0.05,1.0], ylim=[0.0,1.05],\n",
        "          xlabel='False Positive Rate',\n",
        "          ylabel=\"True Positive Rate (Recall)\",\n",
        "          title=\"Receiver operating characteristic\")\n",
        "ax[0].legend(loc=\"lower right\")\n",
        "ax[0].grid(True)\n",
        "\n",
        "## Plot precision-recall curve\n",
        "for i in range(len(classes)):\n",
        "    precision, recall, thresholds = metrics.precision_recall_curve(\n",
        "                 y_test_array[:,i], predictions[:,i])\n",
        "    ax[1].plot(recall, precision, lw=3,\n",
        "               label='{0} (area={1:0.2f})'.format(classes[i],\n",
        "                                  metrics.auc(recall, precision))\n",
        "              )\n",
        "ax[1].set(xlim=[0.0,1.05], ylim=[0.0,1.05], xlabel='Recall',\n",
        "          ylabel=\"Precision\", title=\"Precision-Recall curve\")\n",
        "ax[1].legend(loc=\"best\")\n",
        "ax[1].grid(True)\n",
        "plt.show()\"\"\""
      ],
      "execution_count": null,
      "outputs": [
        {
          "output_type": "stream",
          "name": "stdout",
          "text": [
            "Accuracy: 0.62\n",
            "Detail:\n",
            "              precision    recall  f1-score   support\n",
            "\n",
            "           0       0.65      0.89      0.75      1118\n",
            "           1       0.42      0.13      0.20       625\n",
            "\n",
            "    accuracy                           0.62      1743\n",
            "   macro avg       0.53      0.51      0.48      1743\n",
            "weighted avg       0.57      0.62      0.56      1743\n",
            "\n"
          ]
        },
        {
          "output_type": "execute_result",
          "data": {
            "application/vnd.google.colaboratory.intrinsic+json": {
              "type": "string"
            },
            "text/plain": [
              "'\\nfig, ax = plt.subplots(nrows=1, ncols=2,figsize=(15,5))\\n\\n## Plot roc\\nfor i in range(len(classes)):\\n    fpr, tpr, thresholds = metrics.roc_curve(y_test_array[:,i],  \\n                           predictions[:,i])\\n    ax[0].plot(fpr, tpr, lw=3, \\n              label=\\'{0} (area={1:0.2f})\\'.format(classes[i], \\n                              metrics.auc(fpr, tpr))\\n               )\\nax[0].plot([0,1], [0,1], color=\\'green\\', lw=3, linestyle=\\'--\\')\\nax[0].set(xlim=[-0.05,1.0], ylim=[0.0,1.05], \\n          xlabel=\\'False Positive Rate\\', \\n          ylabel=\"True Positive Rate (Recall)\", \\n          title=\"Receiver operating characteristic\")\\nax[0].legend(loc=\"lower right\")\\nax[0].grid(True)\\n    \\n## Plot precision-recall curve\\nfor i in range(len(classes)):\\n    precision, recall, thresholds = metrics.precision_recall_curve(\\n                 y_test_array[:,i], predictions[:,i])\\n    ax[1].plot(recall, precision, lw=3, \\n               label=\\'{0} (area={1:0.2f})\\'.format(classes[i], \\n                                  metrics.auc(recall, precision))\\n              )\\nax[1].set(xlim=[0.0,1.05], ylim=[0.0,1.05], xlabel=\\'Recall\\', \\n          ylabel=\"Precision\", title=\"Precision-Recall curve\")\\nax[1].legend(loc=\"best\")\\nax[1].grid(True)\\nplt.show()'"
            ]
          },
          "metadata": {},
          "execution_count": 29
        },
        {
          "output_type": "display_data",
          "data": {
            "image/png": "[encoded data removed]",
            "text/plain": [
              "<Figure size 432x288 with 1 Axes>"
            ]
          },
          "metadata": {
            "needs_background": "light"
          }
        }
      ]
    },
    {
      "cell_type": "code",
      "metadata": {
        "id": "jOs3JdKZeOoY",
        "colab": {
          "base_uri": "https://localhost:8080/"
        },
        "outputId": "d956fe84-7551-4041-8c6c-19087fd741e0"
      },
      "source": [
        "histt1 = model.evaluate(x_train,y_train)"
      ],
      "execution_count": null,
      "outputs": [
        {
          "output_type": "stream",
          "name": "stdout",
          "text": [
            "111/111 [==============================] - 41s 337ms/step - loss: 0.0923 - accuracy: 0.7116\n"
          ]
        }
      ]
    },
    {
      "cell_type": "code",
      "metadata": {
        "id": "STboy74YeQpR",
        "colab": {
          "base_uri": "https://localhost:8080/"
        },
        "outputId": "babbb440-91a7-4be9-936e-aa9d0d5a276d"
      },
      "source": [
        "histt2 = model.evaluate(x_val,y_val)"
      ],
      "execution_count": null,
      "outputs": [
        {
          "output_type": "stream",
          "name": "stdout",
          "text": [
            "55/55 [==============================] - 18s 334ms/step - loss: 0.1525 - accuracy: 0.8841\n"
          ]
        }
      ]
    }
  ]
}