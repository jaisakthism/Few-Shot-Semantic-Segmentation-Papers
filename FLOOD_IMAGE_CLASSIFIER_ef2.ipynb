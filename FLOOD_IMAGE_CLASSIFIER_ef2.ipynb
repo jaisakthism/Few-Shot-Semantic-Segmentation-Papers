{
  "nbformat": 4,
  "nbformat_minor": 0,
  "metadata": {
    "colab": {
      "provenance": [],
      "include_colab_link": true
    },
    "kernelspec": {
      "name": "python3",
      "display_name": "Python 3"
    },
    "language_info": {
      "name": "python"
    }
  },
  "cells": [
    {
      "cell_type": "markdown",
      "metadata": {
        "id": "view-in-github",
        "colab_type": "text"
      },
      "source": [
        "<a href=\"https://colab.research.google.com/github/jaisakthism/Few-Shot-Semantic-Segmentation-Papers/blob/master/FLOOD_IMAGE_CLASSIFIER_ef2.ipynb\" target=\"_parent\"><img src=\"https://colab.research.google.com/assets/colab-badge.svg\" alt=\"Open In Colab\"/></a>"
      ]
    },
    {
      "cell_type": "code",
      "metadata": {
        "colab": {
          "base_uri": "https://localhost:8080/"
        },
        "id": "cofdS8d_Jvia",
        "outputId": "83fcb3d1-2c81-42be-fca8-16a3b193ee8f"
      },
      "source": [
        "from google.colab import drive\n",
        "drive.mount('/content/drive')"
      ],
      "execution_count": null,
      "outputs": [
        {
          "output_type": "stream",
          "name": "stdout",
          "text": [
            "Mounted at /content/drive\n"
          ]
        }
      ]
    },
    {
      "cell_type": "code",
      "metadata": {
        "id": "P1_7prhpJ_m5"
      },
      "source": [
        "# Loading required libraries and functions\n",
        "import shutil\n",
        "import random\n",
        "import itertools\n",
        "%matplotlib inline\n",
        "import numpy as np\n",
        "import tensorflow as tf\n",
        "import matplotlib as mpl\n",
        "from keras import backend\n",
        "from tensorflow import keras\n",
        "import matplotlib.pyplot as plt\n",
        "from sklearn.metrics import f1_score\n",
        "from sklearn.metrics import accuracy_score\n",
        "from tensorflow.keras.models import Model\n",
        "from tensorflow.keras.optimizers import Adam\n",
        "from sklearn.metrics import confusion_matrix\n",
        "from keras.applications import imagenet_utils\n",
        "from tensorflow.keras.preprocessing import image\n",
        "from tensorflow.keras.layers import Dense, Activation\n",
        "from sklearn.metrics import precision_score, recall_score\n",
        "from tensorflow.keras.metrics import categorical_crossentropy\n",
        "from tensorflow.keras.preprocessing.image import ImageDataGenerator\n",
        "from tensorflow.keras.applications.mobilenet import decode_predictions, preprocess_input"
      ],
      "execution_count": null,
      "outputs": []
    },
    {
      "cell_type": "code",
      "metadata": {
        "id": "ScBUhPAwKCrK"
      },
      "source": [
        "import tensorflow as tf\n",
        "import glob\n",
        "import numpy as np\n",
        "from sklearn.model_selection import train_test_split\n",
        "import PIL.Image\n",
        "import cv2\n",
        "import random\n",
        "from scipy import ndarray\n",
        "import skimage as sk\n",
        "from skimage import transform\n",
        "from skimage import util\n",
        "import random\n",
        "from keras import backend as K\n",
        "import os\n",
        "from keras.layers import *\n",
        "import re\n",
        "import zipfile\n",
        "import pathlib\n",
        "import PIL\n",
        "import pandas as pd"
      ],
      "execution_count": null,
      "outputs": []
    },
    {
      "cell_type": "code",
      "metadata": {
        "colab": {
          "base_uri": "https://localhost:8080/"
        },
        "id": "8mEu7fG3KEjX",
        "outputId": "341edcbd-08d0-4da4-ede0-5614d75aab9c"
      },
      "source": [
        "from PIL import Image, ImageOps\n",
        "filelist_trainx = sorted(glob.glob(\"/content/drive/MyDrive/social_media_images/devset_images_zipfile/devset_images/*/*\"))\n",
        "X_train = np.array([np.array(PIL.Image.open(fname).resize((260,260),PIL.Image.ANTIALIAS)) for fname in filelist_trainx])\n",
        "X_train.shape"
      ],
      "execution_count": null,
      "outputs": [
        {
          "output_type": "execute_result",
          "data": {
            "text/plain": [
              "(5280, 260, 260, 3)"
            ]
          },
          "metadata": {},
          "execution_count": 4
        }
      ]
    },
    {
      "cell_type": "code",
      "metadata": {
        "colab": {
          "base_uri": "https://localhost:8080/"
        },
        "id": "TSTnAEzIKMXu",
        "outputId": "46b8499a-35b4-4490-d90c-3dd6341b054d"
      },
      "source": [
        "X_train.shape"
      ],
      "execution_count": null,
      "outputs": [
        {
          "output_type": "execute_result",
          "data": {
            "text/plain": [
              "(5280, 260, 260, 3)"
            ]
          },
          "metadata": {},
          "execution_count": 5
        }
      ]
    },
    {
      "cell_type": "code",
      "metadata": {
        "colab": {
          "base_uri": "https://localhost:8080/"
        },
        "id": "UEDaO9HjZYf4",
        "outputId": "8551a87f-9438-4de1-9098-35b8f310c677"
      },
      "source": [
        "from tensorflow.keras.utils import to_categorical\n",
        "Y_train  = pd.read_csv(\"/content/drive/MyDrive/social_media_images/devset_images_zipfile/devset_images_gt.csv\", header = None)\n",
        "Y_train = Y_train.iloc[:,1].values\n",
        "Y_train = to_categorical(Y_train)\n",
        "Y_train = Y_train.astype('float32')\n",
        "#Y_train.index = Y_train.index + 1\n",
        "#tf.convert_to_tensor(Y_train)\n",
        "Y_train = np.array(Y_train)\n",
        "print(Y_train)"
      ],
      "execution_count": null,
      "outputs": [
        {
          "output_type": "stream",
          "name": "stdout",
          "text": [
            "[[1. 0.]\n",
            " [1. 0.]\n",
            " [1. 0.]\n",
            " ...\n",
            " [1. 0.]\n",
            " [1. 0.]\n",
            " [1. 0.]]\n"
          ]
        }
      ]
    },
    {
      "cell_type": "code",
      "metadata": {
        "id": "z6UrNoCnZans"
      },
      "source": [
        "x_train, x_val, y_train, y_val = train_test_split(X_train, Y_train, test_size = 0.33, random_state = 54)\n"
      ],
      "execution_count": null,
      "outputs": []
    },
    {
      "cell_type": "code",
      "metadata": {
        "id": "X6q1Qf11Zd1o"
      },
      "source": [
        "from tensorflow.keras.applications import EfficientNetB2"
      ],
      "execution_count": null,
      "outputs": []
    },
    {
      "cell_type": "code",
      "metadata": {
        "id": "FehCVZKFZgfw"
      },
      "source": [
        "from tensorflow.keras.models import Sequential\n",
        "from tensorflow.keras import layers"
      ],
      "execution_count": null,
      "outputs": []
    },
    {
      "cell_type": "code",
      "metadata": {
        "id": "YpDy7YJgZi3T"
      },
      "source": [
        "\n",
        "\n",
        "img_augmentation = Sequential(\n",
        "    [\n",
        "        layers.RandomRotation(factor=0.15),\n",
        "        layers.RandomTranslation(height_factor=0.1, width_factor=0.1),\n",
        "        layers.RandomFlip(),\n",
        "        layers.RandomContrast(factor=0.1),\n",
        "    ],\n",
        "    name=\"img_augmentation\",\n",
        ")"
      ],
      "execution_count": null,
      "outputs": []
    },
    {
      "cell_type": "code",
      "metadata": {
        "id": "y-pNTKfKZePC"
      },
      "source": [
        "img_height = 260\n",
        "img_width = 260"
      ],
      "execution_count": null,
      "outputs": []
    },
    {
      "cell_type": "code",
      "metadata": {
        "id": "Q-AC8C8OZpKA"
      },
      "source": [
        "preprocess_input = tf.keras.applications.mobilenet_v2.preprocess_input"
      ],
      "execution_count": null,
      "outputs": []
    },
    {
      "cell_type": "code",
      "metadata": {
        "id": "FDHxaDTmZpli"
      },
      "source": [
        "def build_model(num_classes):\n",
        "    inputs = layers.Input(shape=(img_height, img_width,3))\n",
        "    x = img_augmentation(inputs)\n",
        "    model = EfficientNetB2(include_top=False, input_tensor=x, weights=\"imagenet\")\n",
        "\n",
        "    # Freeze the pretrained weights\n",
        "    model.trainable = False\n",
        "\n",
        "    # Rebuild top\n",
        "    x = layers.GlobalAveragePooling2D(name=\"avg_pool\")(model.output)\n",
        "    x = layers.BatchNormalization()(x)\n",
        "\n",
        "    top_dropout_rate = 0.2\n",
        "    x = layers.Dropout(top_dropout_rate, name=\"top_dropout\")(x)\n",
        "    outputs = layers.Dense(NUM_CLASSES, activation=\"sigmoid\", name=\"pred\")(x)\n",
        "\n",
        "    # Compile\n",
        "    model = tf.keras.Model(inputs, outputs, name=\"EfficientNet\")\n",
        "    optimizer = tf.keras.optimizers.Adam(learning_rate=1e-3)\n",
        "    mse = tf.keras.losses.MeanSquaredLogarithmicError()\n",
        "    cc = \"categorical_crossentropy\"\n",
        "    sce = tf.keras.losses.MeanSquaredError()\n",
        "    cosine_loss = tf.keras.losses.CosineSimilarity(axis=1)\n",
        "    model.compile(\n",
        "        optimizer= optimizer, loss= mse, metrics=[\"accuracy\"]\n",
        "    )\n",
        "    return model\n"
      ],
      "execution_count": null,
      "outputs": []
    },
    {
      "cell_type": "code",
      "metadata": {
        "colab": {
          "base_uri": "https://localhost:8080/"
        },
        "id": "z-mCmtmUZzOD",
        "outputId": "00547d93-94bc-49de-ac2c-ee3a9c0225e3"
      },
      "source": [
        "import tensorflow as tf\n",
        "\n",
        "try:\n",
        "    tpu = tf.distribute.cluster_resolver.TPUClusterResolver()  # TPU detection\n",
        "    print(\"Running on TPU \", tpu.cluster_spec().as_dict()[\"worker\"])\n",
        "    tf.config.experimental_connect_to_cluster(tpu)\n",
        "    tf.tpu.experimental.initialize_tpu_system(tpu)\n",
        "    strategy = tf.distribute.TPUStrategy(tpu)\n",
        "except ValueError:\n",
        "    print(\"Not connected to a TPU runtime. Using CPU/GPU strategy\")\n",
        "    strategy = tf.distribute.MirroredStrategy()\n"
      ],
      "execution_count": null,
      "outputs": [
        {
          "output_type": "stream",
          "name": "stdout",
          "text": [
            "Not connected to a TPU runtime. Using CPU/GPU strategy\n",
            "WARNING:tensorflow:There are non-GPU devices in `tf.distribute.Strategy`, not using nccl allreduce.\n",
            "INFO:tensorflow:Using MirroredStrategy with devices ('/job:localhost/replica:0/task:0/device:CPU:0',)\n"
          ]
        }
      ]
    },
    {
      "cell_type": "code",
      "metadata": {
        "colab": {
          "base_uri": "https://localhost:8080/"
        },
        "id": "rcQBrqQNZ1Kh",
        "outputId": "2052b83a-c14e-4c33-b8a6-27f21c5924a4"
      },
      "source": [
        "NUM_CLASSES = 2\n",
        "with strategy.scope():\n",
        "    model = build_model(num_classes=NUM_CLASSES)\n",
        "\n",
        "epochs = 20 #@param {type:\"slider\", min:8, max:100, step:1}\n",
        "#hist = model.fit(ds_train, epochs=epochs, validation_data=ds_test, verbose=2)\n",
        "hist = model.fit(x_train,y_train,\n",
        "                  epochs= epochs,\n",
        "                  #nitial_epoch=hist.epoch[-1],\n",
        "                  validation_data=(x_val, y_val))"
      ],
      "execution_count": null,
      "outputs": [
        {
          "output_type": "stream",
          "name": "stdout",
          "text": [
            "Downloading data from https://storage.googleapis.com/keras-applications/efficientnetb2_notop.h5\n",
            "31793152/31790344 [==============================] - 0s 0us/step\n",
            "31801344/31790344 [==============================] - 0s 0us/step\n",
            "Epoch 1/20\n",
            "111/111 [==============================] - 617s 5s/step - loss: 0.1384 - accuracy: 0.5776 - val_loss: 0.1179 - val_accuracy: 0.6357\n",
            "Epoch 2/20\n",
            "111/111 [==============================] - 631s 6s/step - loss: 0.1298 - accuracy: 0.6104 - val_loss: 0.1195 - val_accuracy: 0.6236\n",
            "Epoch 3/20\n",
            "111/111 [==============================] - 638s 6s/step - loss: 0.1285 - accuracy: 0.5963 - val_loss: 0.1227 - val_accuracy: 0.6299\n",
            "Epoch 4/20\n",
            "111/111 [==============================] - 631s 6s/step - loss: 0.1240 - accuracy: 0.6084 - val_loss: 0.1258 - val_accuracy: 0.5984\n",
            "Epoch 5/20\n",
            "111/111 [==============================] - 584s 5s/step - loss: 0.1231 - accuracy: 0.6045 - val_loss: 0.1271 - val_accuracy: 0.5783\n",
            "Epoch 6/20\n",
            "111/111 [==============================] - 617s 6s/step - loss: 0.1198 - accuracy: 0.6192 - val_loss: 0.1244 - val_accuracy: 0.6110\n",
            "Epoch 7/20\n",
            "111/111 [==============================] - 619s 6s/step - loss: 0.1184 - accuracy: 0.6183 - val_loss: 0.1231 - val_accuracy: 0.6190\n",
            "Epoch 8/20\n",
            "111/111 [==============================] - 618s 6s/step - loss: 0.1181 - accuracy: 0.6265 - val_loss: 0.1270 - val_accuracy: 0.5542\n",
            "Epoch 9/20\n",
            "111/111 [==============================] - 634s 6s/step - loss: 0.1177 - accuracy: 0.6296 - val_loss: 0.1226 - val_accuracy: 0.5921\n",
            "Epoch 10/20\n",
            "111/111 [==============================] - 623s 6s/step - loss: 0.1154 - accuracy: 0.6161 - val_loss: 0.1254 - val_accuracy: 0.5697\n",
            "Epoch 11/20\n",
            "111/111 [==============================] - 635s 6s/step - loss: 0.1143 - accuracy: 0.6254 - val_loss: 0.1278 - val_accuracy: 0.5542\n",
            "Epoch 12/20\n",
            "111/111 [==============================] - 626s 6s/step - loss: 0.1155 - accuracy: 0.6299 - val_loss: 0.1248 - val_accuracy: 0.5950\n",
            "Epoch 13/20\n",
            "111/111 [==============================] - 625s 6s/step - loss: 0.1138 - accuracy: 0.6316 - val_loss: 0.1231 - val_accuracy: 0.5972\n",
            "Epoch 14/20\n",
            "111/111 [==============================] - 622s 6s/step - loss: 0.1148 - accuracy: 0.6192 - val_loss: 0.1225 - val_accuracy: 0.5944\n",
            "Epoch 15/20\n",
            "111/111 [==============================] - 620s 6s/step - loss: 0.1134 - accuracy: 0.6302 - val_loss: 0.1225 - val_accuracy: 0.5829\n",
            "Epoch 16/20\n",
            "111/111 [==============================] - 629s 6s/step - loss: 0.1134 - accuracy: 0.6325 - val_loss: 0.1206 - val_accuracy: 0.6041\n",
            "Epoch 17/20\n",
            "111/111 [==============================] - 644s 6s/step - loss: 0.1129 - accuracy: 0.6254 - val_loss: 0.1237 - val_accuracy: 0.5938\n",
            "Epoch 18/20\n",
            "111/111 [==============================] - 626s 6s/step - loss: 0.1147 - accuracy: 0.6158 - val_loss: 0.1251 - val_accuracy: 0.5686\n",
            "Epoch 19/20\n",
            "111/111 [==============================] - 618s 6s/step - loss: 0.1136 - accuracy: 0.6310 - val_loss: 0.1236 - val_accuracy: 0.5691\n",
            "Epoch 20/20\n",
            "111/111 [==============================] - 621s 6s/step - loss: 0.1142 - accuracy: 0.6254 - val_loss: 0.1246 - val_accuracy: 0.5496\n"
          ]
        }
      ]
    },
    {
      "cell_type": "code",
      "metadata": {
        "colab": {
          "base_uri": "https://localhost:8080/"
        },
        "id": "btjHxQK1xJpa",
        "outputId": "a09cdb77-7fb7-4bbc-e68e-b48e91f8d011"
      },
      "source": [
        "histt = model.evaluate(x_train,y_train)"
      ],
      "execution_count": null,
      "outputs": [
        {
          "output_type": "stream",
          "name": "stdout",
          "text": [
            "111/111 [==============================] - 387s 3s/step - loss: 0.1127 - accuracy: 0.6129\n"
          ]
        }
      ]
    },
    {
      "cell_type": "code",
      "metadata": {
        "colab": {
          "base_uri": "https://localhost:8080/"
        },
        "id": "J11gao57Z3nQ",
        "outputId": "a099732a-b72e-44d9-cbf1-ed8b45afa5df"
      },
      "source": [
        "histvv = model.evaluate(x_val,y_val)"
      ],
      "execution_count": null,
      "outputs": [
        {
          "output_type": "stream",
          "name": "stdout",
          "text": [
            "55/55 [==============================] - 187s 3s/step - loss: 0.1246 - accuracy: 0.5496\n"
          ]
        }
      ]
    },
    {
      "cell_type": "code",
      "metadata": {
        "colab": {
          "base_uri": "https://localhost:8080/",
          "height": 513
        },
        "id": "9H6lSe7UbCf2",
        "outputId": "88bb31c5-24ea-487d-ef9d-908dc5f5adfa"
      },
      "source": [
        "acc = hist.history['accuracy']\n",
        "val_acc = hist.history['val_accuracy']\n",
        "\n",
        "loss = hist.history['loss']\n",
        "val_loss = hist.history['val_loss']\n",
        "\n",
        "plt.figure(figsize=(8, 8))\n",
        "plt.subplot(2, 1, 1)\n",
        "plt.plot(acc, label='Training Accuracy')\n",
        "plt.plot(val_acc, label='Validation Accuracy')\n",
        "plt.legend(loc='lower right')\n",
        "plt.ylabel('Accuracy')\n",
        "plt.ylim([min(plt.ylim()),1])\n",
        "plt.title('Training and Validation Accuracy_B2')\n",
        "\n",
        "plt.subplot(2, 1, 2)\n",
        "plt.plot(loss, label='Training Loss')\n",
        "plt.plot(val_loss, label='Validation Loss')\n",
        "plt.legend(loc='upper right')\n",
        "plt.ylabel('Cross Entropy')\n",
        "plt.ylim([0,1.0])\n",
        "plt.title('Training and Validation Loss_B2')\n",
        "plt.xlabel('epoch')\n",
        "plt.show()"
      ],
      "execution_count": null,
      "outputs": [
        {
          "output_type": "display_data",
          "data": {
            "image/png": "[encoded data removed]",
            "text/plain": [
              "<Figure size 576x576 with 2 Axes>"
            ]
          },
          "metadata": {
            "needs_background": "light"
          }
        }
      ]
    },
    {
      "cell_type": "code",
      "metadata": {
        "id": "IV5GojjEbE1P"
      },
      "source": [
        "predictions = model.predict(x_val)\n",
        "#y_pred_proba = model.predicted_proba(x_val)"
      ],
      "execution_count": null,
      "outputs": []
    },
    {
      "cell_type": "code",
      "metadata": {
        "colab": {
          "base_uri": "https://localhost:8080/"
        },
        "id": "fPLHqRvcbHND",
        "outputId": "b7267d30-a6f6-4c12-d52f-19c418498239"
      },
      "source": [
        "y_pred = np.argmax(predictions,axis =1)\n",
        "\n",
        "y_val = np.argmax(y_val,axis =1)\n",
        "print(y_val)\n",
        "print(y_pred)"
      ],
      "execution_count": null,
      "outputs": [
        {
          "output_type": "stream",
          "name": "stdout",
          "text": [
            "[1 1 0 ... 1 0 1]\n",
            "[0 0 0 ... 0 0 0]\n"
          ]
        }
      ]
    },
    {
      "cell_type": "code",
      "metadata": {
        "colab": {
          "base_uri": "https://localhost:8080/"
        },
        "id": "wIUSegsAbJA-",
        "outputId": "1869e5f5-8045-47c3-e071-105f5949e2f4"
      },
      "source": [
        "mt = confusion_matrix(y_val, y_pred)\n",
        "print(\"False positive rate : %f %%\" % ((mt[0][1] / float(sum(mt[0])))*100))\n",
        "print('False negative rate : %f %%' % ( (mt[1][0] / float(sum(mt[1]))*100)))\n"
      ],
      "execution_count": null,
      "outputs": [
        {
          "output_type": "stream",
          "name": "stdout",
          "text": [
            "False positive rate : 30.143113 %\n",
            "False negative rate : 71.680000 %\n"
          ]
        }
      ]
    },
    {
      "cell_type": "code",
      "metadata": {
        "colab": {
          "base_uri": "https://localhost:8080/"
        },
        "id": "eBOsxedubLT0",
        "outputId": "7c65aeca-93b5-4d6b-ef19-d21e6d1ea142"
      },
      "source": [
        "import sklearn.metrics as metrics\n",
        "\n",
        "print(metrics.classification_report(y_val, y_pred))"
      ],
      "execution_count": null,
      "outputs": [
        {
          "output_type": "stream",
          "name": "stdout",
          "text": [
            "              precision    recall  f1-score   support\n",
            "\n",
            "           0       0.64      0.70      0.67      1118\n",
            "           1       0.34      0.28      0.31       625\n",
            "\n",
            "    accuracy                           0.55      1743\n",
            "   macro avg       0.49      0.49      0.49      1743\n",
            "weighted avg       0.53      0.55      0.54      1743\n",
            "\n"
          ]
        }
      ]
    },
    {
      "cell_type": "code",
      "metadata": {
        "colab": {
          "base_uri": "https://localhost:8080/",
          "height": 592
        },
        "id": "zbRzsc5nbNfD",
        "outputId": "b5fc0038-e6f7-44f2-eb51-e792660dd6c6"
      },
      "source": [
        "import seaborn as sns## for processing\n",
        "\n",
        "classes = np.unique(y_val)\n",
        "y_test_array = pd.get_dummies(y_val, drop_first=False).values\n",
        "\n",
        "## Accuracy, Precision, Recall\n",
        "accuracy = metrics.accuracy_score(y_val, y_pred)\n",
        "#auc = metrics.roc_auc_score(y_test, predicted_prob, multi_class=\"ovr\")\n",
        "print(\"Accuracy:\",  round(accuracy*100,2))\n",
        "#print(\"Auc:\", round(auc,2))\n",
        "print(\"Detail:\")\n",
        "print(metrics.classification_report(y_val, y_pred))\n",
        "\n",
        "## Plot confusion matrix\n",
        "cm = metrics.confusion_matrix(y_val, y_pred)\n",
        "fig, ax = plt.subplots()\n",
        "sns.heatmap(cm, annot=True, fmt='d', ax=ax, cmap=plt.cm.Blues,\n",
        "            cbar=False)\n",
        "ax.set(xlabel=\"Pred\", ylabel=\"True\", xticklabels=classes,\n",
        "       yticklabels=classes, title=\"Confusion matrix_B2\")\n",
        "plt.yticks(rotation=0)\n",
        "#fig, ax = plt.subplots(nrows=1, ncols=2,figsize=(15,5))\n",
        "\n",
        "## Plot roc\n",
        "\"\"\"for i in range(len(classes)):\n",
        "    fpr, tpr, thresholds = metrics.roc_curve(y_test_array[:,i],\n",
        "                           predictions[:,i])\n",
        "    ax[0].plot(fpr, tpr, lw=3,\n",
        "              label='{0} (area={1:0.2f})'.format(classes[i],\n",
        "                              metrics.auc(fpr, tpr))\n",
        "               )\n",
        "ax[0].plot([0,1], [0,1], color='green', lw=3, linestyle='--')\n",
        "ax[0].set(xlim=[-0.05,1.0], ylim=[0.0,1.05],\n",
        "          xlabel='False Positive Rate',\n",
        "          ylabel=\"True Positive Rate (Recall)\",\n",
        "          title=\"Receiver operating characteristic\")\n",
        "ax[0].legend(loc=\"lower right\")\n",
        "ax[0].grid(True)\n",
        "\n",
        "## Plot precision-recall curve\n",
        "for i in range(len(classes)):\n",
        "    precision, recall, thresholds = metrics.precision_recall_curve(\n",
        "                 y_test_array[:,i], predictions[:,i])\n",
        "    ax[1].plot(recall, precision, lw=3,\n",
        "               label='{0} (area={1:0.2f})'.format(classes[i],\n",
        "                                  metrics.auc(recall, precision))\n",
        "              )\n",
        "ax[1].set(xlim=[0.0,1.05], ylim=[0.0,1.05], xlabel='Recall',\n",
        "          ylabel=\"Precision\", title=\"Precision-Recall curve\")\n",
        "ax[1].legend(loc=\"best\")\n",
        "ax[1].grid(True)\n",
        "plt.show()\n",
        "\"\"\""
      ],
      "execution_count": null,
      "outputs": [
        {
          "output_type": "stream",
          "name": "stdout",
          "text": [
            "Accuracy: 54.96\n",
            "Detail:\n",
            "              precision    recall  f1-score   support\n",
            "\n",
            "           0       0.64      0.70      0.67      1118\n",
            "           1       0.34      0.28      0.31       625\n",
            "\n",
            "    accuracy                           0.55      1743\n",
            "   macro avg       0.49      0.49      0.49      1743\n",
            "weighted avg       0.53      0.55      0.54      1743\n",
            "\n"
          ]
        },
        {
          "output_type": "execute_result",
          "data": {
            "application/vnd.google.colaboratory.intrinsic+json": {
              "type": "string"
            },
            "text/plain": [
              "'for i in range(len(classes)):\\n    fpr, tpr, thresholds = metrics.roc_curve(y_test_array[:,i],  \\n                           predictions[:,i])\\n    ax[0].plot(fpr, tpr, lw=3, \\n              label=\\'{0} (area={1:0.2f})\\'.format(classes[i], \\n                              metrics.auc(fpr, tpr))\\n               )\\nax[0].plot([0,1], [0,1], color=\\'green\\', lw=3, linestyle=\\'--\\')\\nax[0].set(xlim=[-0.05,1.0], ylim=[0.0,1.05], \\n          xlabel=\\'False Positive Rate\\', \\n          ylabel=\"True Positive Rate (Recall)\", \\n          title=\"Receiver operating characteristic\")\\nax[0].legend(loc=\"lower right\")\\nax[0].grid(True)\\n    \\n## Plot precision-recall curve\\nfor i in range(len(classes)):\\n    precision, recall, thresholds = metrics.precision_recall_curve(\\n                 y_test_array[:,i], predictions[:,i])\\n    ax[1].plot(recall, precision, lw=3, \\n               label=\\'{0} (area={1:0.2f})\\'.format(classes[i], \\n                                  metrics.auc(recall, precision))\\n              )\\nax[1].set(xlim=[0.0,1.05], ylim=[0.0,1.05], xlabel=\\'Recall\\', \\n          ylabel=\"Precision\", title=\"Precision-Recall curve\")\\nax[1].legend(loc=\"best\")\\nax[1].grid(True)\\nplt.show()\\n'"
            ]
          },
          "metadata": {},
          "execution_count": 27
        },
        {
          "output_type": "display_data",
          "data": {
            "image/png": "[encoded data removed]",
            "text/plain": [
              "<Figure size 432x288 with 1 Axes>"
            ]
          },
          "metadata": {
            "needs_background": "light"
          }
        }
      ]
    },
    {
      "cell_type": "code",
      "metadata": {
        "id": "epa69qiIbP-C",
        "colab": {
          "base_uri": "https://localhost:8080/"
        },
        "outputId": "a7b4b402-4494-4239-ebb4-7c026f0bae16"
      },
      "source": [
        "\n",
        "def unfreeze_model(model):\n",
        "    # We unfreeze the top 20 layers while leaving BatchNorm layers frozen\n",
        "    for layer in model.layers[-20:]:\n",
        "        if not isinstance(layer, layers.BatchNormalization):\n",
        "            layer.trainable = True\n",
        "    mse = tf.keras.losses.MeanSquaredLogarithmicError()\n",
        "\n",
        "    optimizer = tf.keras.optimizers.Adam(learning_rate=1e-4)\n",
        "    model.compile(\n",
        "        optimizer=optimizer, loss= mse, metrics=[\"accuracy\"]\n",
        "    )\n",
        "\n",
        "\n",
        "unfreeze_model(model)\n",
        "\n",
        "epochs = 10  # @param {type: \"slider\", min:8, max:50}\n",
        "#hist = model.fit(ds_train, epochs=epochs, validation_data=ds_test, verbose=2)\n",
        "hist = model.fit(x_train,y_train,\n",
        "                  epochs= epochs,\n",
        "                  #initial_epoch=hist.epoch[-1],\n",
        "                  validation_data=(x_val, y_val))"
      ],
      "execution_count": null,
      "outputs": [
        {
          "output_type": "stream",
          "name": "stdout",
          "text": [
            "Epoch 1/10\n",
            "111/111 [==============================] - 709s 6s/step - loss: 0.1115 - accuracy: 0.6254 - val_loss: 0.1361 - val_accuracy: 0.7240\n",
            "Epoch 2/10\n",
            "111/111 [==============================] - 696s 6s/step - loss: 0.1099 - accuracy: 0.6342 - val_loss: 0.1435 - val_accuracy: 0.8744\n",
            "Epoch 3/10\n",
            "111/111 [==============================] - 683s 6s/step - loss: 0.1059 - accuracy: 0.6565 - val_loss: 0.1390 - val_accuracy: 0.7980\n",
            "Epoch 4/10\n",
            "111/111 [==============================] - 674s 6s/step - loss: 0.1063 - accuracy: 0.6525 - val_loss: 0.1402 - val_accuracy: 0.8107\n",
            "Epoch 5/10\n",
            "111/111 [==============================] - 698s 6s/step - loss: 0.1049 - accuracy: 0.6554 - val_loss: 0.1417 - val_accuracy: 0.8216\n",
            "Epoch 6/10\n",
            "111/111 [==============================] - 693s 6s/step - loss: 0.1002 - accuracy: 0.6785 - val_loss: 0.1376 - val_accuracy: 0.7665\n",
            "Epoch 7/10\n",
            "111/111 [==============================] - 686s 6s/step - loss: 0.1015 - accuracy: 0.6794 - val_loss: 0.1440 - val_accuracy: 0.8359\n",
            "Epoch 8/10\n",
            "111/111 [==============================] - 690s 6s/step - loss: 0.0999 - accuracy: 0.6842 - val_loss: 0.1509 - val_accuracy: 0.8841\n",
            "Epoch 9/10\n",
            "111/111 [==============================] - 681s 6s/step - loss: 0.0984 - accuracy: 0.6845 - val_loss: 0.1444 - val_accuracy: 0.8233\n",
            "Epoch 10/10\n",
            "111/111 [==============================] - 675s 6s/step - loss: 0.0976 - accuracy: 0.6907 - val_loss: 0.1491 - val_accuracy: 0.8388\n"
          ]
        }
      ]
    },
    {
      "cell_type": "code",
      "metadata": {
        "colab": {
          "base_uri": "https://localhost:8080/",
          "height": 513
        },
        "id": "4N9HUtg-ZX1-",
        "outputId": "0d2491f4-5510-454b-eca2-d8a32aeb702b"
      },
      "source": [
        "acc = hist.history['accuracy']\n",
        "val_acc = hist.history['val_accuracy']\n",
        "\n",
        "loss = hist.history['loss']\n",
        "val_loss = hist.history['val_loss']\n",
        "\n",
        "plt.figure(figsize=(8, 8))\n",
        "plt.subplot(2, 1, 1)\n",
        "plt.plot(acc, label='Training Accuracy')\n",
        "plt.plot(val_acc, label='Validation Accuracy')\n",
        "plt.legend(loc='lower right')\n",
        "plt.ylabel('Accuracy')\n",
        "plt.ylim([min(plt.ylim()),1])\n",
        "plt.title('Training and Validation Accuracy_B2')\n",
        "\n",
        "plt.subplot(2, 1, 2)\n",
        "plt.plot(loss, label='Training Loss')\n",
        "plt.plot(val_loss, label='Validation Loss')\n",
        "plt.legend(loc='upper right')\n",
        "plt.ylabel('Cross Entropy')\n",
        "plt.ylim([0,1.0])\n",
        "plt.title('Training and Validation Loss_B2')\n",
        "plt.xlabel('epoch')\n",
        "plt.show()"
      ],
      "execution_count": null,
      "outputs": [
        {
          "output_type": "display_data",
          "data": {
            "image/png": "[encoded data removed]",
            "text/plain": [
              "<Figure size 576x576 with 2 Axes>"
            ]
          },
          "metadata": {
            "needs_background": "light"
          }
        }
      ]
    },
    {
      "cell_type": "code",
      "metadata": {
        "colab": {
          "base_uri": "https://localhost:8080/"
        },
        "id": "_Pg_PpJqZbl0",
        "outputId": "acd06bd3-256b-4a67-9250-6c01c6d3a20d"
      },
      "source": [
        "predictions1 = model.predict(x_val)\n",
        "y_pred = np.argmax(predictions1, axis=1)\n",
        "\n",
        "score = predictions1[0]\n",
        "print(100 * score)\n"
      ],
      "execution_count": null,
      "outputs": [
        {
          "output_type": "stream",
          "name": "stdout",
          "text": [
            "[89.80949   4.401815]\n"
          ]
        }
      ]
    },
    {
      "cell_type": "code",
      "metadata": {
        "colab": {
          "base_uri": "https://localhost:8080/"
        },
        "id": "Z0HP1MITZhSd",
        "outputId": "22d7aaf5-e219-4aba-ef7f-aae540d6c728"
      },
      "source": [
        "mt = confusion_matrix(y_val, y_pred)\n",
        "print(\"False positive rate : %f %%\" % ((mt[0][1] / float(sum(mt[0])))*100))\n",
        "print('False negative rate : %f %%' % ( (mt[1][0] / float(sum(mt[1]))*100)))"
      ],
      "execution_count": null,
      "outputs": [
        {
          "output_type": "stream",
          "name": "stdout",
          "text": [
            "False positive rate : 16.368515 %\n",
            "False negative rate : 84.320000 %\n"
          ]
        }
      ]
    },
    {
      "cell_type": "code",
      "metadata": {
        "colab": {
          "base_uri": "https://localhost:8080/"
        },
        "id": "0wV3GWkWZknK",
        "outputId": "06807b52-2827-4378-c137-b3fbbee40352"
      },
      "source": [
        "print(metrics.classification_report(y_val, y_pred))"
      ],
      "execution_count": null,
      "outputs": [
        {
          "output_type": "stream",
          "name": "stdout",
          "text": [
            "              precision    recall  f1-score   support\n",
            "\n",
            "           0       0.64      0.84      0.72      1118\n",
            "           1       0.35      0.16      0.22       625\n",
            "\n",
            "    accuracy                           0.59      1743\n",
            "   macro avg       0.49      0.50      0.47      1743\n",
            "weighted avg       0.54      0.59      0.54      1743\n",
            "\n"
          ]
        }
      ]
    },
    {
      "cell_type": "code",
      "metadata": {
        "colab": {
          "base_uri": "https://localhost:8080/",
          "height": 592
        },
        "id": "ettvXbnVZmuq",
        "outputId": "30c37b8e-e750-452b-8a51-45658935c365"
      },
      "source": [
        "import seaborn as sns## for processing\n",
        "\n",
        "classes = np.unique(y_val)\n",
        "y_test_array = pd.get_dummies(y_val, drop_first=False).values\n",
        "\n",
        "## Accuracy, Precision, Recall\n",
        "accuracy = metrics.accuracy_score(y_val, y_pred)\n",
        "#auc = metrics.roc_auc_score(y_test, predicted_prob, multi_class=\"ovr\")\n",
        "print(\"Accuracy:\",  round(accuracy,2))\n",
        "#print(\"Auc:\", round(auc,2))\n",
        "print(\"Detail:\")\n",
        "print(metrics.classification_report(y_val, y_pred))\n",
        "\n",
        "## Plot confusion matrix\n",
        "cm = metrics.confusion_matrix(y_val, y_pred)\n",
        "fig, ax = plt.subplots()\n",
        "sns.heatmap(cm, annot=True, fmt='d', ax=ax, cmap=plt.cm.Blues,\n",
        "            cbar=False)\n",
        "ax.set(xlabel=\"Pred\", ylabel=\"True\", xticklabels=classes,\n",
        "       yticklabels=classes, title=\"Confusion matrix\")\n",
        "plt.yticks(rotation=0)\n",
        "\"\"\"\n",
        "fig, ax = plt.subplots(nrows=1, ncols=2,figsize=(15,5))\n",
        "\n",
        "## Plot roc\n",
        "for i in range(len(classes)):\n",
        "    fpr, tpr, thresholds = metrics.roc_curve(y_test_array[:,i],\n",
        "                           predictions[:,i])\n",
        "    ax[0].plot(fpr, tpr, lw=3,\n",
        "              label='{0} (area={1:0.2f})'.format(classes[i],\n",
        "                              metrics.auc(fpr, tpr))\n",
        "               )\n",
        "ax[0].plot([0,1], [0,1], color='green', lw=3, linestyle='--')\n",
        "ax[0].set(xlim=[-0.05,1.0], ylim=[0.0,1.05],\n",
        "          xlabel='False Positive Rate',\n",
        "          ylabel=\"True Positive Rate (Recall)\",\n",
        "          title=\"Receiver operating characteristic\")\n",
        "ax[0].legend(loc=\"lower right\")\n",
        "ax[0].grid(True)\n",
        "\n",
        "## Plot precision-recall curve\n",
        "for i in range(len(classes)):\n",
        "    precision, recall, thresholds = metrics.precision_recall_curve(\n",
        "                 y_test_array[:,i], predictions[:,i])\n",
        "    ax[1].plot(recall, precision, lw=3,\n",
        "               label='{0} (area={1:0.2f})'.format(classes[i],\n",
        "                                  metrics.auc(recall, precision))\n",
        "              )\n",
        "ax[1].set(xlim=[0.0,1.05], ylim=[0.0,1.05], xlabel='Recall',\n",
        "          ylabel=\"Precision\", title=\"Precision-Recall curve\")\n",
        "ax[1].legend(loc=\"best\")\n",
        "ax[1].grid(True)\n",
        "plt.show()\"\"\""
      ],
      "execution_count": null,
      "outputs": [
        {
          "output_type": "stream",
          "name": "stdout",
          "text": [
            "Accuracy: 0.59\n",
            "Detail:\n",
            "              precision    recall  f1-score   support\n",
            "\n",
            "           0       0.64      0.84      0.72      1118\n",
            "           1       0.35      0.16      0.22       625\n",
            "\n",
            "    accuracy                           0.59      1743\n",
            "   macro avg       0.49      0.50      0.47      1743\n",
            "weighted avg       0.54      0.59      0.54      1743\n",
            "\n"
          ]
        },
        {
          "output_type": "execute_result",
          "data": {
            "application/vnd.google.colaboratory.intrinsic+json": {
              "type": "string"
            },
            "text/plain": [
              "'\\nfig, ax = plt.subplots(nrows=1, ncols=2,figsize=(15,5))\\n\\n## Plot roc\\nfor i in range(len(classes)):\\n    fpr, tpr, thresholds = metrics.roc_curve(y_test_array[:,i],  \\n                           predictions[:,i])\\n    ax[0].plot(fpr, tpr, lw=3, \\n              label=\\'{0} (area={1:0.2f})\\'.format(classes[i], \\n                              metrics.auc(fpr, tpr))\\n               )\\nax[0].plot([0,1], [0,1], color=\\'green\\', lw=3, linestyle=\\'--\\')\\nax[0].set(xlim=[-0.05,1.0], ylim=[0.0,1.05], \\n          xlabel=\\'False Positive Rate\\', \\n          ylabel=\"True Positive Rate (Recall)\", \\n          title=\"Receiver operating characteristic\")\\nax[0].legend(loc=\"lower right\")\\nax[0].grid(True)\\n    \\n## Plot precision-recall curve\\nfor i in range(len(classes)):\\n    precision, recall, thresholds = metrics.precision_recall_curve(\\n                 y_test_array[:,i], predictions[:,i])\\n    ax[1].plot(recall, precision, lw=3, \\n               label=\\'{0} (area={1:0.2f})\\'.format(classes[i], \\n                                  metrics.auc(recall, precision))\\n              )\\nax[1].set(xlim=[0.0,1.05], ylim=[0.0,1.05], xlabel=\\'Recall\\', \\n          ylabel=\"Precision\", title=\"Precision-Recall curve\")\\nax[1].legend(loc=\"best\")\\nax[1].grid(True)\\nplt.show()'"
            ]
          },
          "metadata": {},
          "execution_count": 34
        },
        {
          "output_type": "display_data",
          "data": {
            "image/png": "[encoded data removed]",
            "text/plain": [
              "<Figure size 432x288 with 1 Axes>"
            ]
          },
          "metadata": {
            "needs_background": "light"
          }
        }
      ]
    },
    {
      "cell_type": "code",
      "metadata": {
        "colab": {
          "base_uri": "https://localhost:8080/"
        },
        "id": "n6lBJiorZnVM",
        "outputId": "701296e2-c6fc-4b01-aece-e5d5baaa7c79"
      },
      "source": [
        "histt1 = model.evaluate(x_train,y_train)"
      ],
      "execution_count": null,
      "outputs": [
        {
          "output_type": "stream",
          "name": "stdout",
          "text": [
            "111/111 [==============================] - 393s 4s/step - loss: 0.0905 - accuracy: 0.7142\n"
          ]
        }
      ]
    },
    {
      "cell_type": "code",
      "metadata": {
        "colab": {
          "base_uri": "https://localhost:8080/"
        },
        "id": "NEVCnp0xZpi_",
        "outputId": "2145fae5-598f-476c-c6e5-475f679b4b1a"
      },
      "source": [
        "histt2 = model.evaluate(x_val,y_val)"
      ],
      "execution_count": null,
      "outputs": [
        {
          "output_type": "stream",
          "name": "stdout",
          "text": [
            "48/55 [=========================>....] - ETA: 24s - loss: 0.1492 - accuracy: 0.8418"
          ]
        }
      ]
    }
  ]
}